{
 "cells": [
  {
   "cell_type": "markdown",
   "metadata": {},
   "source": [
    "# Introduction"
   ]
  },
  {
   "cell_type": "markdown",
   "metadata": {},
   "source": [
    "With the rise in Big Data jobs in recent years, many different positions with specialized duties and disparate skillsets have become much more common. Furthermore, companies will also seek out interns to train and later employ, whose positions may require different skillsets than their full-time counterparts. In order to learn more about the distinct skills that these job listings are asking for, we decided to scrape job sites to see which skills are currently in demand. The job board and aggregator Indeed has its own webcrawler, which scrapes other companies’ websites and formats these jobs to host on its own website. This job site became the ideal target for our project, and we scraped this data continuously to avoid any temporal bias in the data; job listings will disappear from Indeed after some time, especially if they are easier to fill or receive more applications, so recording a snapshot of the search results would be insufficient (a snapshot would be more likely to capture older, less desirable or easily-filled jobs). \n",
    "\n",
    "To avoid this bias in our project, we collected the most recent Indeed data for over a month, starting from mid-April. We performed this analysis for six queries in total: “data analyst”, “data science”, and “machine learning”, and their corresponding intern positions as well. The file `AllScrapes.py` contains the class (`IndeedScraper`) and method (`scrape_all`) used to obtain the data used in this analysis; it scrapes a page of search results on Indeed to get the individual job keys, and then scrapes those individual job keys to get job-specific data; e.g. job title, time posted, and (most importantly) the full job description text. The class and method are called from the file `module-usage.py`; the results are stored in three separate files, and we combine these three files into one .tsv with `tsv-combiner-final.py`. \n",
    "\n",
    "In this notebook file, we parse the data from the combined .tsv, and concurrently upload it to a SQLite database file. Only the lines that are easy to parse are added, which amount to ~24,000 jobs total. Then, we `SELECT` the number of jobs from the dataset whose descriptions contain specific skills. We perform a chi-square test on the proportions of these jobs that require each of the skills, and the resulting chi-square statistics (one for each skill, across all queries) are printed out. "
   ]
  },
  {
   "cell_type": "code",
   "execution_count": 3,
   "metadata": {},
   "outputs": [
    {
     "data": {
      "text/html": [
       "<script>\n",
       "code_show=false; \n",
       "function code_toggle() {\n",
       " if (code_show){\n",
       " $('div.input').hide();\n",
       " } else {\n",
       " $('div.input').show();\n",
       " }\n",
       " code_show = !code_show\n",
       "} \n",
       "$( document ).ready(code_toggle);\n",
       "</script>\n",
       "<form action=\"javascript:code_toggle()\"><input type=\"submit\" value=\"Click here to toggle on/off the raw code.\"></form>"
      ],
      "text/plain": [
       "<IPython.core.display.HTML object>"
      ]
     },
     "execution_count": 3,
     "metadata": {},
     "output_type": "execute_result"
    }
   ],
   "source": [
    "from IPython.display import HTML\n",
    "\n",
    "HTML('''<script>\n",
    "code_show=false; \n",
    "function code_toggle() {\n",
    " if (code_show){\n",
    " $('div.input').hide();\n",
    " } else {\n",
    " $('div.input').show();\n",
    " }\n",
    " code_show = !code_show\n",
    "} \n",
    "$( document ).ready(code_toggle);\n",
    "</script>\n",
    "<form action=\"javascript:code_toggle()\"><input type=\"submit\" value=\"Click here to toggle on/off the raw code.\"></form>''')"
   ]
  },
  {
   "cell_type": "code",
   "execution_count": 2,
   "metadata": {},
   "outputs": [],
   "source": [
    "import pandas as pd\n",
    "from sqlalchemy import *\n",
    "import sqlalchemy as sqla\n",
    "from sqlalchemy import inspect\n",
    "import timeit\n",
    "import time\n",
    "import plotnine as p9\n",
    "import numpy as np\n",
    "%matplotlib inline\n",
    "\n",
    "\n",
    "fullfile = \"../data/test.tsv\""
   ]
  },
  {
   "cell_type": "markdown",
   "metadata": {},
   "source": [
    "# SQLite Setup"
   ]
  },
  {
   "cell_type": "markdown",
   "metadata": {},
   "source": [
    "We started by creating our sqlite file, as well as creating a connection to the engine to access sqlite tables."
   ]
  },
  {
   "cell_type": "code",
   "execution_count": 3,
   "metadata": {},
   "outputs": [],
   "source": [
    "#### Clean & Upload to SQLite database\n",
    "## First, create the file\n",
    "sqlite_file = '../data/cleaned.sqlite'\n",
    "cnx = sqla.create_engine('sqlite:///' + sqlite_file)\n",
    "insp = inspect(cnx)"
   ]
  },
  {
   "cell_type": "code",
   "execution_count": 4,
   "metadata": {},
   "outputs": [],
   "source": [
    "### shows what tables are in the engine\n",
    "#print(insp.get_table_names())"
   ]
  },
  {
   "cell_type": "code",
   "execution_count": 5,
   "metadata": {
    "scrolled": true
   },
   "outputs": [],
   "source": [
    "# Check if engine has clean_jobs table (has_table is deprecated?)\n",
    "# check=insp.has_table('clean_jobs')\n",
    "# check"
   ]
  },
  {
   "cell_type": "code",
   "execution_count": 6,
   "metadata": {},
   "outputs": [],
   "source": [
    "## DONT RUN IF YOU WANT TO KEEP GOING\n",
    "#drop table if it already exist\n",
    "#try:\n",
    "#    clean_jobs.drop(cnx)\n",
    "#    print('dropped table')\n",
    "#except:\n",
    "#    print(\"did not drop table\")\n"
   ]
  },
  {
   "cell_type": "markdown",
   "metadata": {},
   "source": [
    "We initialized an empty table in SQLite, if it does not exist."
   ]
  },
  {
   "cell_type": "code",
   "execution_count": 7,
   "metadata": {
    "scrolled": true
   },
   "outputs": [
    {
     "name": "stdout",
     "output_type": "stream",
     "text": [
      "created clean_jobs table because it didnt exist\n"
     ]
    }
   ],
   "source": [
    "metadata = MetaData()\n",
    "clean_jobs = Table('clean_jobs', metadata,\n",
    "        Column('Key', String(16), nullable=False),\n",
    "        Column('Title', String, nullable=False),\n",
    "        Column('Recency', String),\n",
    "        Column('Time_Scraped', String, nullable=False),\n",
    "        Column('Company_Details', String, nullable=False),\n",
    "        Column('Query', String, nullable=False),\n",
    "        Column('Description', String, nullable=False)\n",
    "    )\n",
    "try:\n",
    "    clean_jobs.create(cnx)\n",
    "    print(\"created clean_jobs table because it didnt exist\")\n",
    "except:\n",
    "    print(\"clean_jobs table already exist\")"
   ]
  },
  {
   "cell_type": "markdown",
   "metadata": {},
   "source": [
    "Now we can see that the `clean_jobs` table exists."
   ]
  },
  {
   "cell_type": "code",
   "execution_count": 8,
   "metadata": {},
   "outputs": [
    {
     "name": "stdout",
     "output_type": "stream",
     "text": [
      "['clean_jobs']\n"
     ]
    }
   ],
   "source": [
    "# Check if engine has clean_jobs table \n",
    "# check=insp.has_table('clean_jobs')\n",
    "# check\n",
    "print(insp.get_table_names())"
   ]
  },
  {
   "cell_type": "markdown",
   "metadata": {},
   "source": [
    "# Upload data to SQLite D.B."
   ]
  },
  {
   "cell_type": "markdown",
   "metadata": {},
   "source": [
    "We created a function called `append_line_to_sql()` that cleans our scraped .tsv entries and appends the cleaned results into the sql database."
   ]
  },
  {
   "cell_type": "code",
   "execution_count": 9,
   "metadata": {},
   "outputs": [],
   "source": [
    "def append_line_to_sql(splitted):\n",
    "    \"\"\"\n",
    "    Takes a line from a .tsv that has already been splitted on '\\t', and uploads it \n",
    "    to a SQLite database. \n",
    "    First, it checks if the line has 7 elements; junk reads often \n",
    "    consist of only one element, and do not have 7 values. Next, it looks for the words\n",
    "    \"Job Description\" and \"Report job\", both of which would have showed up if the entire \n",
    "    page's text was scraped correctly. The details are turned into a dictionary and \n",
    "    then a dataframe, which is uploaded to the SQLite file. A boolean is returned for \n",
    "    debugging/progress-tracking purposes.\n",
    "    \n",
    "    (Some jobs on Indeed will not have the words \"Job Description\", making it difficult \n",
    "    to trim the job descriptions and decrease the size of the data. Furthermore, Indeed \n",
    "    will (rarely) host another company website's job listing directly, instead of \n",
    "    scraping the listing, and Indeed-scraping methods will fail to return any results; \n",
    "    because the job description will be empty, this is also avoided by checking for \"Job \n",
    "    Description\" and \"Report job\".)\n",
    "    \"\"\"\n",
    "    if(len(splitted)==7):\n",
    "        tempT = splitted[6]\n",
    "        tempI1 = tempT.find(\"Job Description\")\n",
    "        tempI2 = tempT.find(\"Report job\")\n",
    "        if(tempI1!=-1 and tempI2 !=-1):\n",
    "            cleanedDesc = tempT[tempI1+16:tempI2]\n",
    "            tempdf = pd.DataFrame({\"Key\":[splitted[0]], \n",
    "                        \"Title\":[splitted[1]], \n",
    "                        \"Recency\":[splitted[2]], \n",
    "                        \"Time_Scraped\":[splitted[3]], \n",
    "                        \"Company_Details\":[splitted[4]], \n",
    "                        \"Query\":[splitted[5]], \n",
    "                        \"Description\":[cleanedDesc]})\n",
    "            tempdf.to_sql('clean_jobs',cnx,if_exists='append',index=False)\n",
    "            return True\n",
    "    return False"
   ]
  },
  {
   "cell_type": "markdown",
   "metadata": {},
   "source": [
    "Next, we uploaded our data in the SQLite Database into the `clean_jobs` table we initialized earlier, displaying the time needed to process every 5000 entries, and eventually the total number of rows in our database."
   ]
  },
  {
   "cell_type": "code",
   "execution_count": 10,
   "metadata": {
    "scrolled": true
   },
   "outputs": [
    {
     "name": "stdout",
     "output_type": "stream",
     "text": [
      "5000 entries: 117.77033185958862 sec.\n",
      "10000 entries: 186.44010496139526 sec.\n",
      "15000 entries: 341.6916708946228 sec.\n",
      "20000 entries: 416.5343210697174 sec.\n",
      "25000 entries: 471.5870740413666 sec.\n",
      "Total rows: 25221\n",
      "Time:       474.1427800655365\n",
      "Jobs/sec.:  53.19283781251278\n"
     ]
    }
   ],
   "source": [
    "## Upload valid .tsv entries to SQLite database\n",
    "# takes ~5-10 mins.\n",
    "# np.vectorize will be ineffective here, as it only emulates a for() loop; there is no further optimization\n",
    "counter = 0\n",
    "temp = False\n",
    "starttime = time.time()\n",
    "with open(fullfile, encoding=\"utf-8\") as file1:\n",
    "    aline = file1.readline()  # skip column names\n",
    "\n",
    "    for line in file1.readlines():\n",
    "        splitted = line.split(\"\\t\")\n",
    "        temp = append_line_to_sql(splitted)\n",
    "        if temp is True:\n",
    "            counter += 1\n",
    "            if(counter%5000==0): \n",
    "                print(\"{} entries: {} sec.\".format(counter, time.time()-starttime))\n",
    "endtime = time.time()\n",
    "print(\"Total rows: {}\".format(counter))\n",
    "print(\"Time:       {}\".format(endtime-starttime))\n",
    "print(\"Jobs/sec.:  {}\".format(float(counter)/(endtime-starttime)))"
   ]
  },
  {
   "cell_type": "code",
   "execution_count": 11,
   "metadata": {},
   "outputs": [],
   "source": [
    "## (OLD) Clean & Upload the data \n",
    "\"\"\"\n",
    "# # https://stackoverflow.com/questions/17839973/constructing-pandas-dataframe-from-values-in-variables-gives-valueerror-if-usi\n",
    "counter=0\n",
    "    ## Maybe try to add it as an entry instead of creating a new file every time?\n",
    "with open(fullfile, encoding=\"utf-8\") as file1:\n",
    "    ## Initialize a table in the database; clear the old one\n",
    "    aline = file1.readline()\n",
    "#     print(type(aline)) #str\n",
    "#     print(aline[:350])\n",
    "    spl = aline.split('\\t')\n",
    "    tempdf = pd.DataFrame({\"Key\":[spl[0]],\n",
    "                        \"Title\":[spl[1]], \n",
    "                        \"Recency\":[spl[2]], \n",
    "                        \"Time_Scraped\":[spl[3]], \n",
    "                        \"Company_Details\":[spl[4]], \n",
    "                        \"Query\":[spl[5]], \n",
    "                        \"Description\":[spl[6]]})      # first one will contain full page text, later ones will be cleaned\n",
    "    tempdf.to_sql('clean_jobs',cnx,if_exists='replace')\n",
    "    counter += 1\n",
    "    print(counter)\n",
    "    \n",
    "    ## Loop through the others and append them\n",
    "    for line in file1.readlines():\n",
    "        splitted = line.split(\"\\t\")\n",
    "        if(len(splitted)==7):\n",
    "            tempT = splitted[6]  # removing text before \"Desc:\" is unnecessary because we start after it (\"FJD\") anyways\n",
    "            tempI1 = tempT.find(\"Job Description\")\n",
    "            tempI2 = tempT.find(\"Report job\")\n",
    "            if(tempI1==-1 or tempI2 ==-1):\n",
    "                continue  # no FJD or report job\n",
    "            cleanedDesc = tempT[tempI1+16:tempI2]\n",
    "            tempdf = pd.DataFrame({\"Key\":[splitted[0]], \n",
    "                        \"Title\":[splitted[1]], \n",
    "                        \"Recency\":[splitted[2]], \n",
    "                        \"Time_Scraped\":[splitted[3]], \n",
    "                        \"Company_Details\":[splitted[4]], \n",
    "                        \"Query\":[splitted[5]], \n",
    "                        \"Description\":[cleanedDesc]})\n",
    "            tempdf.to_sql('clean_jobs',cnx,if_exists='append')\n",
    "            counter += 1\n",
    "            print(counter)\n",
    "\"\"\";"
   ]
  },
  {
   "cell_type": "markdown",
   "metadata": {},
   "source": [
    "# Query the D.B."
   ]
  },
  {
   "cell_type": "markdown",
   "metadata": {},
   "source": [
    "We started by creating a simple query to check our connection to the table and to quickly see the format of our returned results."
   ]
  },
  {
   "cell_type": "code",
   "execution_count": 12,
   "metadata": {},
   "outputs": [
    {
     "data": {
      "text/html": [
       "<div>\n",
       "<style scoped>\n",
       "    .dataframe tbody tr th:only-of-type {\n",
       "        vertical-align: middle;\n",
       "    }\n",
       "\n",
       "    .dataframe tbody tr th {\n",
       "        vertical-align: top;\n",
       "    }\n",
       "\n",
       "    .dataframe thead th {\n",
       "        text-align: right;\n",
       "    }\n",
       "</style>\n",
       "<table border=\"1\" class=\"dataframe\">\n",
       "  <thead>\n",
       "    <tr style=\"text-align: right;\">\n",
       "      <th></th>\n",
       "      <th>Key</th>\n",
       "      <th>Title</th>\n",
       "      <th>Recency</th>\n",
       "      <th>Time_Scraped</th>\n",
       "      <th>Company_Details</th>\n",
       "      <th>Query</th>\n",
       "      <th>Description</th>\n",
       "    </tr>\n",
       "  </thead>\n",
       "  <tbody>\n",
       "    <tr>\n",
       "      <th>0</th>\n",
       "      <td>12303968d69f27e1</td>\n",
       "      <td>Junior Data Scientist Intern</td>\n",
       "      <td>Just posted</td>\n",
       "      <td>Thu Apr 15 22:59:04 2021</td>\n",
       "      <td>|Munich Re America|131 reviews|Princeton, NJ 0...</td>\n",
       "      <td>machine learning intern</td>\n",
       "      <td>The Junior Data Scientist Intern will gain exp...</td>\n",
       "    </tr>\n",
       "    <tr>\n",
       "      <th>1</th>\n",
       "      <td>9f8bfec8b1277d4c</td>\n",
       "      <td>Intern, ITS Data Analytics (Denver)</td>\n",
       "      <td>Just posted</td>\n",
       "      <td>Thu Apr 15 22:59:05 2021</td>\n",
       "      <td>|Avanade|284 reviews|Denver, CO</td>\n",
       "      <td>machine learning intern</td>\n",
       "      <td>Do you enjoy solving problems, turning data in...</td>\n",
       "    </tr>\n",
       "    <tr>\n",
       "      <th>2</th>\n",
       "      <td>496be02744d8c5ce</td>\n",
       "      <td>Software Engineering Intern Summer 2021</td>\n",
       "      <td>Just posted</td>\n",
       "      <td>Thu Apr 15 22:59:05 2021</td>\n",
       "      <td>|Quantcast|22 reviews|San Francisco, CA 94103</td>\n",
       "      <td>machine learning intern</td>\n",
       "      <td>Quantcast is hiring Software Engineering Inter...</td>\n",
       "    </tr>\n",
       "  </tbody>\n",
       "</table>\n",
       "</div>"
      ],
      "text/plain": [
       "                Key                                    Title      Recency  \\\n",
       "0  12303968d69f27e1             Junior Data Scientist Intern  Just posted   \n",
       "1  9f8bfec8b1277d4c      Intern, ITS Data Analytics (Denver)  Just posted   \n",
       "2  496be02744d8c5ce  Software Engineering Intern Summer 2021  Just posted   \n",
       "\n",
       "               Time_Scraped  \\\n",
       "0  Thu Apr 15 22:59:04 2021   \n",
       "1  Thu Apr 15 22:59:05 2021   \n",
       "2  Thu Apr 15 22:59:05 2021   \n",
       "\n",
       "                                     Company_Details                    Query  \\\n",
       "0  |Munich Re America|131 reviews|Princeton, NJ 0...  machine learning intern   \n",
       "1                    |Avanade|284 reviews|Denver, CO  machine learning intern   \n",
       "2      |Quantcast|22 reviews|San Francisco, CA 94103  machine learning intern   \n",
       "\n",
       "                                         Description  \n",
       "0  The Junior Data Scientist Intern will gain exp...  \n",
       "1  Do you enjoy solving problems, turning data in...  \n",
       "2  Quantcast is hiring Software Engineering Inter...  "
      ]
     },
     "execution_count": 12,
     "metadata": {},
     "output_type": "execute_result"
    }
   ],
   "source": [
    "# Take a quick look at the format\n",
    "pd.read_sql_query(\"SELECT * FROM clean_jobs LIMIT 3\", cnx)"
   ]
  },
  {
   "cell_type": "markdown",
   "metadata": {},
   "source": [
    "## Find (complete) duplicates\n",
    "\n",
    "(i.e. where both the Key *and* the Query are repeated)\n",
    "\n",
    "It seems like many jobs are found twice in the same scrape, only seconds apart. Indeed does tend to display search results from the previous page on the next page; their website URL also increases by increments of 10, while each page shows 15 results.\n",
    "\n",
    "Considering how random these duplicates are, it seems unnecessary to remove them - in this situation, the data was effectively randomly resampled, which should not significantly affect the results."
   ]
  },
  {
   "cell_type": "code",
   "execution_count": 13,
   "metadata": {},
   "outputs": [
    {
     "name": "stdout",
     "output_type": "stream",
     "text": [
      "                   Key             Query              Time_Scraped  COUNT(*)\n",
      "0     00334946427e3871      data analyst  Tue Apr 13 21:34:36 2021         2\n",
      "1     0035d750467e0b52      data science  Mon May 10 22:21:30 2021         2\n",
      "2     00433f0aaeeaeb97      data analyst  Mon Apr 26 15:18:41 2021         2\n",
      "3     00605ffba7f65ddb      data analyst  Sat May  8 17:37:40 2021         2\n",
      "4     006cf4261668d692  machine learning  Tue May 11 03:34:33 2021         2\n",
      "...                ...               ...                       ...       ...\n",
      "3021  ffcce04d704d9ac1  machine learning  Fri Apr 30 20:51:22 2021         2\n",
      "3022  ffd5cd41f2a63bfb      data analyst  Sat May  8 00:08:01 2021         3\n",
      "3023  fff439f9fb88a5aa      data analyst  Wed Apr 28 19:57:01 2021         2\n",
      "3024  fff928bdde71f89e  machine learning  Sat May 15 00:46:37 2021         2\n",
      "3025  fffcd56f1b192688  machine learning  Tue May  4 21:58:15 2021         2\n",
      "\n",
      "[3026 rows x 4 columns]\n",
      "----------------------------\n",
      "Rows duplicated twice: 2935\n",
      "Rows duplicated 3 times: 91\n",
      "Total duplicate rows: 6143\n"
     ]
    }
   ],
   "source": [
    "# >>add a check into the original scraper to see if duplicates were found\n",
    "# >>like jobIDs_ = list(set(jobIDs)); \n",
    "# >>if(len(jobIDs_) < len(jobIDs)): print(\"Duplicated entries found\")\n",
    "#### TODO: This check will also be important when searching by relevancy\n",
    "sql_query = \"\"\"\n",
    "SELECT Key, Query, Time_Scraped, COUNT(*)\n",
    "FROM clean_jobs\n",
    "GROUP BY Key, Query\n",
    "HAVING COUNT(*) > 1\n",
    "\"\"\"  ## key, query will group by the same query as well, so what we have now are COMPLETE repeats\n",
    "# Added Time_Scraped as a unique identifier, still not the optimal solution\n",
    "duplicates = pd.read_sql_query(sql_query,cnx)\n",
    "print(duplicates)\n",
    "twos = duplicates[duplicates[\"COUNT(*)\"]==2].shape[0]\n",
    "threes = duplicates[duplicates[\"COUNT(*)\"]==3].shape[0]\n",
    "print(\"----------------------------\")\n",
    "print(\"Rows duplicated twice: {}\\nRows duplicated 3 times: {}\".format(twos, threes))\n",
    "print(\"Total duplicate rows: {}\".format((2*twos + 3*threes)))\n",
    "## We will either have to specify in our queries that we only want unique pairs: (key, query), \n",
    "## or just remove these entries beforehand. \n",
    "## >Try using Ctrl+F to find these keys in the .tsv file..."
   ]
  },
  {
   "cell_type": "code",
   "execution_count": 14,
   "metadata": {
    "scrolled": true
   },
   "outputs": [],
   "source": [
    "## NOT WORKING!\n",
    "## Remove duplicates from the database\n",
    "# https://www.sqlitetutorial.net/sqlite-delete/\n",
    "# https://stackoverflow.com/a/38333100/14717416\n",
    "\n",
    "# for row in duplicates.iterrows():\n",
    "#     oneRow = row[1]\n",
    "#     cur = cnx.raw_connection().cursor()\n",
    "#     del_dupes = \"\"\"DELETE FROM clean_jobs WHERE Key=\"{}\" AND Query=\"{}\" AND Time_Scraped=\"{}\"\n",
    "#         \"\"\".format(oneRow[\"Key\"], oneRow[\"Query\"], oneRow[\"Time_Scraped\"])\n",
    "#     # removed \"LIMIT {}\", and oneRow[\"COUNT(*)\"]-1\n",
    "#     print(del_dupes)\n",
    "#     cur.execute('DELETE FROM clean_jobs WHERE Key=? AND Query=? AND Time_Scraped=?',  (oneRow[\"Key\"], oneRow[\"Query\"], oneRow[\"Time_Scraped\"]))\n",
    "#     cnx.commit()\n",
    "# cnx.close()"
   ]
  },
  {
   "cell_type": "markdown",
   "metadata": {},
   "source": [
    "## Find total number of jobs\n",
    "\n",
    "We should have dropped these duplicated rows with `drop rows where Key=\"...\" and Query=\"...\" LIMIT 1 #(for 2's; LIMIT 2 for 3's)`, but Pandas' SQLAlchemy does not directly support `ALTER`, and we were unable to find another way to trim off duplicate records (while keeping one of them). "
   ]
  },
  {
   "cell_type": "markdown",
   "metadata": {},
   "source": [
    "We queried the total count of job postings that are in our database to check if all entries were appended correctly."
   ]
  },
  {
   "cell_type": "code",
   "execution_count": 15,
   "metadata": {},
   "outputs": [
    {
     "name": "stdout",
     "output_type": "stream",
     "text": [
      "   count(*)\n",
      "0     25221\n"
     ]
    }
   ],
   "source": [
    "sql_query = \"\"\"\n",
    "SELECT count(*)\n",
    "FROM clean_jobs\n",
    "\"\"\"\n",
    "print(pd.read_sql_query(sql_query,cnx))"
   ]
  },
  {
   "cell_type": "markdown",
   "metadata": {},
   "source": [
    "To confirm that `tsv-combiner.py` worked correctly, we searched for (and found) the 6 distinct queries (search terms we plugged into Indeed) that we originally scraped Indeed with."
   ]
  },
  {
   "cell_type": "code",
   "execution_count": 16,
   "metadata": {},
   "outputs": [
    {
     "name": "stdout",
     "output_type": "stream",
     "text": [
      "                     Query\n",
      "0  machine learning intern\n",
      "1         machine learning\n",
      "2             data science\n",
      "3      data science intern\n",
      "4             data analyst\n",
      "5      data analyst intern\n"
     ]
    }
   ],
   "source": [
    "# (make sure that all the queries are here)\n",
    "# sql_query = \"\"\"\n",
    "# SELECT query FROM clean_jobs WHERE query NOT LIKE \"machine learning%\"\n",
    "# \"\"\"\n",
    "# print(pd.read_sql_query(sql_query,cnx))\n",
    "sql_query = \"\"\"\n",
    "SELECT DISTINCT query FROM clean_jobs\n",
    "\"\"\"\n",
    "print(pd.read_sql_query(sql_query,cnx))"
   ]
  },
  {
   "cell_type": "markdown",
   "metadata": {},
   "source": [
    "Below are the total number of rows for each of our search terms."
   ]
  },
  {
   "cell_type": "code",
   "execution_count": 17,
   "metadata": {
    "scrolled": true
   },
   "outputs": [
    {
     "name": "stdout",
     "output_type": "stream",
     "text": [
      "Total number of Machine Learning job postings is 7154.\n",
      "Total number of Machine Learning intern job postings is 712.\n",
      "Total number of Data Science job postings is 7391.\n",
      "Total number of Data Science intern job postings is 481.\n",
      "Total number of Data Analyst job postings is 9184.\n",
      "Total number of Data Analyst intern job postings is 299.\n"
     ]
    }
   ],
   "source": [
    "## Total numbers of full/intern jobs in the database\n",
    "sql_query = \"\"\"\n",
    "SELECT count(*) AS Num FROM clean_jobs WHERE query LIKE \"machine learning\"\n",
    "\"\"\"\n",
    "nML = pd.read_sql_query(sql_query,cnx)[\"Num\"][0]\n",
    "print(\"Total number of Machine Learning job postings is {0}.\".format(nML))\n",
    "\n",
    "sql_query = \"\"\"\n",
    "SELECT count(*) AS Num FROM clean_jobs WHERE query LIKE \"machine learning intern\"\n",
    "\"\"\"\n",
    "nMLi = pd.read_sql_query(sql_query,cnx)[\"Num\"][0]\n",
    "print(\"Total number of Machine Learning intern job postings is {0}.\".format(nMLi))\n",
    "\n",
    "##################\n",
    "sql_query = \"\"\"\n",
    "SELECT count(*) AS Num FROM clean_jobs WHERE query LIKE \"data science\"\n",
    "\"\"\"\n",
    "nDS = pd.read_sql_query(sql_query,cnx)[\"Num\"][0]\n",
    "print(\"Total number of Data Science job postings is {0}.\".format(nDS))\n",
    "\n",
    "sql_query = \"\"\"\n",
    "SELECT count(*) AS Num FROM clean_jobs WHERE query LIKE \"data science intern\"\n",
    "\"\"\"\n",
    "nDSi = pd.read_sql_query(sql_query,cnx)[\"Num\"][0]\n",
    "print(\"Total number of Data Science intern job postings is {0}.\".format(nDSi))\n",
    "\n",
    "##################\n",
    "sql_query = \"\"\"\n",
    "SELECT count(*) AS Num FROM clean_jobs WHERE query LIKE \"data analyst\"\n",
    "\"\"\"\n",
    "nDA = pd.read_sql_query(sql_query,cnx)[\"Num\"][0]\n",
    "print(\"Total number of Data Analyst job postings is {0}.\".format(nDA))\n",
    "\n",
    "sql_query = \"\"\"\n",
    "SELECT count(*) AS Num FROM clean_jobs WHERE query LIKE \"data analyst intern\"\n",
    "\"\"\"\n",
    "nDAi = pd.read_sql_query(sql_query,cnx)[\"Num\"][0]\n",
    "print(\"Total number of Data Analyst intern job postings is {0}.\".format(nDAi))\n",
    "\n",
    "totals = [nML, nMLi, nDS, nDSi, nDA, nDAi]\n",
    "#print(totals)"
   ]
  },
  {
   "cell_type": "markdown",
   "metadata": {},
   "source": [
    "One strange thing about this data is that, for machine learning, data science, and data analyst positions, there are increasing numbers of full jobs, but decreasing numbers of internships. We interpret this as the hardest jobs have the highest demand for trained/experienced interns (who are supposed to have full-time positions later), but less-difficult jobs have less of a need for interns, and can just hire the people who apply. \n",
    "\n",
    "Furthermore, lower-level fields may be considered full jobs if they're easier in general, but harder fields must differentiate between full/internship positions because there is a bigger gap between entry-level and experienced, and therefore, between intern jobs and full jobs. "
   ]
  },
  {
   "cell_type": "markdown",
   "metadata": {},
   "source": [
    "# Visualizing the Data"
   ]
  },
  {
   "cell_type": "code",
   "execution_count": 18,
   "metadata": {
    "scrolled": true
   },
   "outputs": [],
   "source": [
    "## Numbers of full/intern jobs, that are asking for SQL\n",
    "# checks the result of the for loop used later\n",
    "sql_query = \"\"\"\n",
    "SELECT count(*) AS Num FROM clean_jobs WHERE query LIKE \"machine learning\" AND Description LIKE \"%SQL%\"\n",
    "\"\"\"\n",
    "nML_sql = pd.read_sql_query(sql_query,cnx)[\"Num\"][0]\n",
    "#print(nML_sql)\n",
    "\n",
    "sql_query = \"\"\"\n",
    "SELECT count(*) AS Num FROM clean_jobs WHERE query LIKE \"machine learning intern\" AND Description LIKE \"%SQL%\"\n",
    "\"\"\"\n",
    "nMLi_sql = pd.read_sql_query(sql_query,cnx)[\"Num\"][0]\n",
    "#print(nMLi_sql)\n",
    "\n",
    "##################\n",
    "sql_query = \"\"\"\n",
    "SELECT count(*) AS Num FROM clean_jobs WHERE query LIKE \"data science\" AND Description LIKE \"%SQL%\"\n",
    "\"\"\"\n",
    "nDS_sql = pd.read_sql_query(sql_query,cnx)[\"Num\"][0]\n",
    "#print(nDS_sql)\n",
    "\n",
    "sql_query = \"\"\"\n",
    "SELECT count(*) AS Num FROM clean_jobs WHERE query LIKE \"data science intern\" AND Description LIKE \"%SQL%\"\n",
    "\"\"\"\n",
    "nDSi_sql = pd.read_sql_query(sql_query,cnx)[\"Num\"][0]\n",
    "#print(nDSi_sql)\n",
    "\n",
    "##################\n",
    "sql_query = \"\"\"\n",
    "SELECT count(*) AS Num FROM clean_jobs WHERE query LIKE \"data analyst\" AND Description LIKE \"%SQL%\"\n",
    "\"\"\"\n",
    "nDA_sql = pd.read_sql_query(sql_query,cnx)[\"Num\"][0]\n",
    "#print(nDA_sql)\n",
    "\n",
    "sql_query = \"\"\"\n",
    "SELECT count(*) AS Num FROM clean_jobs WHERE query LIKE \"data analyst intern\" AND Description LIKE \"%SQL%\"\n",
    "\"\"\"\n",
    "nDAi_sql = pd.read_sql_query(sql_query,cnx)[\"Num\"][0]\n",
    "#print(nDAi_sql)"
   ]
  },
  {
   "cell_type": "markdown",
   "metadata": {},
   "source": [
    "## Creating the Dataframe "
   ]
  },
  {
   "cell_type": "markdown",
   "metadata": {},
   "source": [
    "Using Pandas, we started by creating an empty dataframe: "
   ]
  },
  {
   "cell_type": "code",
   "execution_count": 19,
   "metadata": {},
   "outputs": [
    {
     "data": {
      "text/html": [
       "<div>\n",
       "<style scoped>\n",
       "    .dataframe tbody tr th:only-of-type {\n",
       "        vertical-align: middle;\n",
       "    }\n",
       "\n",
       "    .dataframe tbody tr th {\n",
       "        vertical-align: top;\n",
       "    }\n",
       "\n",
       "    .dataframe thead th {\n",
       "        text-align: right;\n",
       "    }\n",
       "</style>\n",
       "<table border=\"1\" class=\"dataframe\">\n",
       "  <thead>\n",
       "    <tr style=\"text-align: right;\">\n",
       "      <th></th>\n",
       "      <th>Skill</th>\n",
       "      <th>machine learning</th>\n",
       "      <th>machine learning intern</th>\n",
       "      <th>data science</th>\n",
       "      <th>data science intern</th>\n",
       "      <th>data analyst</th>\n",
       "      <th>data analyst intern</th>\n",
       "    </tr>\n",
       "  </thead>\n",
       "  <tbody>\n",
       "  </tbody>\n",
       "</table>\n",
       "</div>"
      ],
      "text/plain": [
       "Empty DataFrame\n",
       "Columns: [Skill, machine learning, machine learning intern, data science, data science intern, data analyst, data analyst intern]\n",
       "Index: []"
      ]
     },
     "execution_count": 19,
     "metadata": {},
     "output_type": "execute_result"
    }
   ],
   "source": [
    "# Create an empty dataframe\n",
    "df = pd.DataFrame(columns = ['Skill', 'machine learning','machine learning intern', 'data science', 'data science intern', 'data analyst','data analyst intern'])\n",
    "df"
   ]
  },
  {
   "cell_type": "markdown",
   "metadata": {},
   "source": [
    "Next, we created a function `Search_by_skill()` that iterates through our `Query_list` (the search terms we plug into Indeed) and our `Skill_list` (the skills or programs we expect data science, machine learning, and data analysts to have proficiency in). The function sends queries into the SQL database, from which we construct dictionaries for each row, and append into our final dataframe for further analysis. "
   ]
  },
  {
   "cell_type": "code",
   "execution_count": 20,
   "metadata": {},
   "outputs": [],
   "source": [
    "# list of jobs and queries\n",
    "Query_list = ['machine learning','machine learning intern', 'data science', 'data science intern', 'data analyst','data analyst intern']\n",
    "Skill_list = ['C++','Java','MongoDB','Power BI','Python','Qlik','SQL','Tableau','Tensorflow']\n"
   ]
  },
  {
   "cell_type": "code",
   "execution_count": 21,
   "metadata": {},
   "outputs": [],
   "source": [
    "def Search_by_skill(skill,query_list):\n",
    "    \"\"\"\n",
    "    Takes in a skill and list of job queries, queries the SQLite database, and \n",
    "    adds the result to a dictionary, which it then returns. \n",
    "    This dictionary acts as one row in the dataframe. \n",
    "    \"\"\"\n",
    "    entry_dict = {'Skill':skill}\n",
    "    for query in query_list:\n",
    "        sql_query = \"\"\"\n",
    "                    SELECT count(*) AS Num FROM clean_jobs WHERE query LIKE \"{0}\" AND Description LIKE \"%{1}%\"\n",
    "                    \"\"\".format(query, skill)\n",
    "        #print(sql_query)\n",
    "        ## the number of counts for the specific job query\n",
    "        temp = pd.read_sql_query(sql_query,cnx)[\"Num\"][0]\n",
    "        #print(temp)\n",
    "        entry_dict.update( {query : temp} )\n",
    "    return(entry_dict)\n",
    "        "
   ]
  },
  {
   "cell_type": "code",
   "execution_count": 22,
   "metadata": {},
   "outputs": [],
   "source": [
    "# Iterate through all the skills to create DF\n",
    "for skill in Skill_list:\n",
    "    df = df.append(Search_by_skill(skill,Query_list),ignore_index=True)\n"
   ]
  },
  {
   "cell_type": "code",
   "execution_count": 23,
   "metadata": {},
   "outputs": [],
   "source": [
    "#print(df)\n",
    "# Convert object types to int\n",
    "for query in Query_list:\n",
    "    df[str(query)] = pd.to_numeric(df[str(query)], errors='ignore')"
   ]
  },
  {
   "cell_type": "markdown",
   "metadata": {},
   "source": [
    "The total counts of each job having a specific skill are as follows:"
   ]
  },
  {
   "cell_type": "code",
   "execution_count": 24,
   "metadata": {},
   "outputs": [
    {
     "data": {
      "text/html": [
       "<div>\n",
       "<style scoped>\n",
       "    .dataframe tbody tr th:only-of-type {\n",
       "        vertical-align: middle;\n",
       "    }\n",
       "\n",
       "    .dataframe tbody tr th {\n",
       "        vertical-align: top;\n",
       "    }\n",
       "\n",
       "    .dataframe thead th {\n",
       "        text-align: right;\n",
       "    }\n",
       "</style>\n",
       "<table border=\"1\" class=\"dataframe\">\n",
       "  <thead>\n",
       "    <tr style=\"text-align: right;\">\n",
       "      <th></th>\n",
       "      <th>Skill</th>\n",
       "      <th>machine learning</th>\n",
       "      <th>machine learning intern</th>\n",
       "      <th>data science</th>\n",
       "      <th>data science intern</th>\n",
       "      <th>data analyst</th>\n",
       "      <th>data analyst intern</th>\n",
       "    </tr>\n",
       "  </thead>\n",
       "  <tbody>\n",
       "    <tr>\n",
       "      <th>0</th>\n",
       "      <td>C++</td>\n",
       "      <td>1193</td>\n",
       "      <td>169</td>\n",
       "      <td>692</td>\n",
       "      <td>64</td>\n",
       "      <td>68</td>\n",
       "      <td>9</td>\n",
       "    </tr>\n",
       "    <tr>\n",
       "      <th>1</th>\n",
       "      <td>Java</td>\n",
       "      <td>2257</td>\n",
       "      <td>197</td>\n",
       "      <td>1344</td>\n",
       "      <td>85</td>\n",
       "      <td>372</td>\n",
       "      <td>25</td>\n",
       "    </tr>\n",
       "    <tr>\n",
       "      <th>2</th>\n",
       "      <td>MongoDB</td>\n",
       "      <td>234</td>\n",
       "      <td>17</td>\n",
       "      <td>156</td>\n",
       "      <td>7</td>\n",
       "      <td>25</td>\n",
       "      <td>2</td>\n",
       "    </tr>\n",
       "    <tr>\n",
       "      <th>3</th>\n",
       "      <td>Power BI</td>\n",
       "      <td>270</td>\n",
       "      <td>32</td>\n",
       "      <td>597</td>\n",
       "      <td>30</td>\n",
       "      <td>936</td>\n",
       "      <td>33</td>\n",
       "    </tr>\n",
       "    <tr>\n",
       "      <th>4</th>\n",
       "      <td>Python</td>\n",
       "      <td>3825</td>\n",
       "      <td>443</td>\n",
       "      <td>4355</td>\n",
       "      <td>296</td>\n",
       "      <td>1452</td>\n",
       "      <td>58</td>\n",
       "    </tr>\n",
       "    <tr>\n",
       "      <th>5</th>\n",
       "      <td>Qlik</td>\n",
       "      <td>142</td>\n",
       "      <td>7</td>\n",
       "      <td>276</td>\n",
       "      <td>10</td>\n",
       "      <td>247</td>\n",
       "      <td>5</td>\n",
       "    </tr>\n",
       "    <tr>\n",
       "      <th>6</th>\n",
       "      <td>SQL</td>\n",
       "      <td>2651</td>\n",
       "      <td>200</td>\n",
       "      <td>3872</td>\n",
       "      <td>194</td>\n",
       "      <td>3725</td>\n",
       "      <td>108</td>\n",
       "    </tr>\n",
       "    <tr>\n",
       "      <th>7</th>\n",
       "      <td>Tableau</td>\n",
       "      <td>661</td>\n",
       "      <td>48</td>\n",
       "      <td>1741</td>\n",
       "      <td>74</td>\n",
       "      <td>1821</td>\n",
       "      <td>43</td>\n",
       "    </tr>\n",
       "    <tr>\n",
       "      <th>8</th>\n",
       "      <td>Tensorflow</td>\n",
       "      <td>712</td>\n",
       "      <td>101</td>\n",
       "      <td>730</td>\n",
       "      <td>58</td>\n",
       "      <td>13</td>\n",
       "      <td>0</td>\n",
       "    </tr>\n",
       "  </tbody>\n",
       "</table>\n",
       "</div>"
      ],
      "text/plain": [
       "        Skill  machine learning  machine learning intern  data science  \\\n",
       "0         C++              1193                      169           692   \n",
       "1        Java              2257                      197          1344   \n",
       "2     MongoDB               234                       17           156   \n",
       "3    Power BI               270                       32           597   \n",
       "4      Python              3825                      443          4355   \n",
       "5        Qlik               142                        7           276   \n",
       "6         SQL              2651                      200          3872   \n",
       "7     Tableau               661                       48          1741   \n",
       "8  Tensorflow               712                      101           730   \n",
       "\n",
       "   data science intern  data analyst  data analyst intern  \n",
       "0                   64            68                    9  \n",
       "1                   85           372                   25  \n",
       "2                    7            25                    2  \n",
       "3                   30           936                   33  \n",
       "4                  296          1452                   58  \n",
       "5                   10           247                    5  \n",
       "6                  194          3725                  108  \n",
       "7                   74          1821                   43  \n",
       "8                   58            13                    0  "
      ]
     },
     "execution_count": 24,
     "metadata": {},
     "output_type": "execute_result"
    }
   ],
   "source": [
    "df"
   ]
  },
  {
   "cell_type": "markdown",
   "metadata": {},
   "source": [
    "## Plot the data"
   ]
  },
  {
   "cell_type": "markdown",
   "metadata": {},
   "source": [
    "Before plotting our data, we had to convert all our counts into proportions to their respective job groups. This enables us to see what skills (e.g. software tools or programming languages) employers look for in their applicants, for each field."
   ]
  },
  {
   "cell_type": "code",
   "execution_count": 25,
   "metadata": {
    "scrolled": true
   },
   "outputs": [
    {
     "data": {
      "text/html": [
       "<div>\n",
       "<style scoped>\n",
       "    .dataframe tbody tr th:only-of-type {\n",
       "        vertical-align: middle;\n",
       "    }\n",
       "\n",
       "    .dataframe tbody tr th {\n",
       "        vertical-align: top;\n",
       "    }\n",
       "\n",
       "    .dataframe thead th {\n",
       "        text-align: right;\n",
       "    }\n",
       "</style>\n",
       "<table border=\"1\" class=\"dataframe\">\n",
       "  <thead>\n",
       "    <tr style=\"text-align: right;\">\n",
       "      <th></th>\n",
       "      <th>Skill</th>\n",
       "      <th>machine learning</th>\n",
       "      <th>machine learning intern</th>\n",
       "      <th>data science</th>\n",
       "      <th>data science intern</th>\n",
       "      <th>data analyst</th>\n",
       "      <th>data analyst intern</th>\n",
       "    </tr>\n",
       "  </thead>\n",
       "  <tbody>\n",
       "    <tr>\n",
       "      <th>0</th>\n",
       "      <td>C++</td>\n",
       "      <td>0.167</td>\n",
       "      <td>0.237</td>\n",
       "      <td>0.094</td>\n",
       "      <td>0.133</td>\n",
       "      <td>0.007</td>\n",
       "      <td>0.030</td>\n",
       "    </tr>\n",
       "    <tr>\n",
       "      <th>1</th>\n",
       "      <td>Java</td>\n",
       "      <td>0.315</td>\n",
       "      <td>0.277</td>\n",
       "      <td>0.182</td>\n",
       "      <td>0.177</td>\n",
       "      <td>0.041</td>\n",
       "      <td>0.084</td>\n",
       "    </tr>\n",
       "    <tr>\n",
       "      <th>2</th>\n",
       "      <td>MongoDB</td>\n",
       "      <td>0.033</td>\n",
       "      <td>0.024</td>\n",
       "      <td>0.021</td>\n",
       "      <td>0.015</td>\n",
       "      <td>0.003</td>\n",
       "      <td>0.007</td>\n",
       "    </tr>\n",
       "    <tr>\n",
       "      <th>3</th>\n",
       "      <td>Power BI</td>\n",
       "      <td>0.038</td>\n",
       "      <td>0.045</td>\n",
       "      <td>0.081</td>\n",
       "      <td>0.062</td>\n",
       "      <td>0.102</td>\n",
       "      <td>0.110</td>\n",
       "    </tr>\n",
       "    <tr>\n",
       "      <th>4</th>\n",
       "      <td>Python</td>\n",
       "      <td>0.535</td>\n",
       "      <td>0.622</td>\n",
       "      <td>0.589</td>\n",
       "      <td>0.615</td>\n",
       "      <td>0.158</td>\n",
       "      <td>0.194</td>\n",
       "    </tr>\n",
       "    <tr>\n",
       "      <th>5</th>\n",
       "      <td>Qlik</td>\n",
       "      <td>0.020</td>\n",
       "      <td>0.010</td>\n",
       "      <td>0.037</td>\n",
       "      <td>0.021</td>\n",
       "      <td>0.027</td>\n",
       "      <td>0.017</td>\n",
       "    </tr>\n",
       "    <tr>\n",
       "      <th>6</th>\n",
       "      <td>SQL</td>\n",
       "      <td>0.371</td>\n",
       "      <td>0.281</td>\n",
       "      <td>0.524</td>\n",
       "      <td>0.403</td>\n",
       "      <td>0.406</td>\n",
       "      <td>0.361</td>\n",
       "    </tr>\n",
       "    <tr>\n",
       "      <th>7</th>\n",
       "      <td>Tableau</td>\n",
       "      <td>0.092</td>\n",
       "      <td>0.067</td>\n",
       "      <td>0.236</td>\n",
       "      <td>0.154</td>\n",
       "      <td>0.198</td>\n",
       "      <td>0.144</td>\n",
       "    </tr>\n",
       "    <tr>\n",
       "      <th>8</th>\n",
       "      <td>Tensorflow</td>\n",
       "      <td>0.100</td>\n",
       "      <td>0.142</td>\n",
       "      <td>0.099</td>\n",
       "      <td>0.121</td>\n",
       "      <td>0.001</td>\n",
       "      <td>0.000</td>\n",
       "    </tr>\n",
       "  </tbody>\n",
       "</table>\n",
       "</div>"
      ],
      "text/plain": [
       "        Skill  machine learning  machine learning intern  data science  \\\n",
       "0         C++             0.167                    0.237         0.094   \n",
       "1        Java             0.315                    0.277         0.182   \n",
       "2     MongoDB             0.033                    0.024         0.021   \n",
       "3    Power BI             0.038                    0.045         0.081   \n",
       "4      Python             0.535                    0.622         0.589   \n",
       "5        Qlik             0.020                    0.010         0.037   \n",
       "6         SQL             0.371                    0.281         0.524   \n",
       "7     Tableau             0.092                    0.067         0.236   \n",
       "8  Tensorflow             0.100                    0.142         0.099   \n",
       "\n",
       "   data science intern  data analyst  data analyst intern  \n",
       "0                0.133         0.007                0.030  \n",
       "1                0.177         0.041                0.084  \n",
       "2                0.015         0.003                0.007  \n",
       "3                0.062         0.102                0.110  \n",
       "4                0.615         0.158                0.194  \n",
       "5                0.021         0.027                0.017  \n",
       "6                0.403         0.406                0.361  \n",
       "7                0.154         0.198                0.144  \n",
       "8                0.121         0.001                0.000  "
      ]
     },
     "execution_count": 25,
     "metadata": {},
     "output_type": "execute_result"
    }
   ],
   "source": [
    "df_prop = df.copy(deep=True)\n",
    "\n",
    "def convert_prop_df(df, totals):\n",
    "    \"\"\"\n",
    "    Converts all the counts to proportions, based on the 'totals' list defined previously. \n",
    "    This is done in place, but it also returns the d.f. itself (for debugging).\n",
    "    \"\"\"\n",
    "    for i in range(len(totals)):\n",
    "        df.iloc[:, [i+1]] = df.iloc[:, [i+1]]/ totals[i]\n",
    "    return df\n",
    "\n",
    "convert_prop_df(df_prop,totals)\n",
    "plot_df_prop = df_prop.round(3)\n",
    "plot_df_prop"
   ]
  },
  {
   "cell_type": "markdown",
   "metadata": {},
   "source": [
    "### Machine Learning"
   ]
  },
  {
   "cell_type": "markdown",
   "metadata": {},
   "source": [
    "We see from the chart that for Machine Learning job posts, the most sought out skills are Python followed by SQL.  \n",
    "\n",
    "Java has a surprisingly high proportion (as opposed to Python), possibly due to the fact that many machine learning job results return software engineering jobs as well, due to our sorting by recent jobs. Both Hadoop and Spark, two popular machine learning technologies, are also written in Java, so prospective applicants may often be required to know this language. "
   ]
  },
  {
   "cell_type": "code",
   "execution_count": 26,
   "metadata": {},
   "outputs": [
    {
     "data": {
      "image/png": "[encoded data removed]",
      "text/plain": [
       "<Figure size 1000x480 with 1 Axes>"
      ]
     },
     "metadata": {},
     "output_type": "display_data"
    },
    {
     "data": {
      "text/plain": [
       "<ggplot: (8784630424971)>"
      ]
     },
     "execution_count": 26,
     "metadata": {},
     "output_type": "execute_result"
    }
   ],
   "source": [
    "p9.options.figure_size = (10, 4.8)\n",
    "# Make the plot\n",
    "plot = p9.ggplot(plot_df_prop)\n",
    "plot += p9.geom_col(position='dodge')\n",
    "plot += p9.aes(x= 'Skill', y = 'machine learning')\n",
    "plot += p9.labs(title=\"Most sought out skills for Machine Learning postings\",\n",
    "             x=\"Skills\",\n",
    "             y=\"Proportion\")\n",
    "plot += p9.geom_text(p9.aes(label='machine learning'),size=8, va='bottom', format_string='{}')\n",
    "plot"
   ]
  },
  {
   "cell_type": "markdown",
   "metadata": {},
   "source": [
    "### Machine Learning Intern"
   ]
  },
  {
   "cell_type": "markdown",
   "metadata": {},
   "source": [
    "For Machine Learning interns, the pattern is similar, with Python being the most crucial skill employers seek. C++, Python, and Tensorflow become slightly more common in these internships, when compared to their corresponding full job."
   ]
  },
  {
   "cell_type": "code",
   "execution_count": 27,
   "metadata": {},
   "outputs": [
    {
     "data": {
      "image/png": "[encoded data removed]",
      "text/plain": [
       "<Figure size 1000x480 with 1 Axes>"
      ]
     },
     "metadata": {},
     "output_type": "display_data"
    },
    {
     "data": {
      "text/plain": [
       "<ggplot: (8784630422357)>"
      ]
     },
     "execution_count": 27,
     "metadata": {},
     "output_type": "execute_result"
    }
   ],
   "source": [
    "p9.options.figure_size = (10, 4.8)\n",
    "plot = p9.ggplot(plot_df_prop)\n",
    "plot += p9.geom_col(position='dodge')\n",
    "plot += p9.aes(x='Skill', y = 'machine learning intern')\n",
    "plot += p9.labs(title=\"Most sought out skills for Machine Learning Intern postings\",\n",
    "             x=\"Skills\",\n",
    "             y=\"Proportion\")\n",
    "plot += p9.geom_text(p9.aes(label='machine learning intern'),size=8, va='bottom', format_string='{}')\n",
    "plot"
   ]
  },
  {
   "cell_type": "markdown",
   "metadata": {},
   "source": [
    "### Data Science"
   ]
  },
  {
   "cell_type": "markdown",
   "metadata": {},
   "source": [
    "For Data Science job posts, it is not surprising to see that Python and SQL are the most sought out skills, but we also see an increase in Tableau compared to Machine Learning posts. There is less emphasis on Java & C++, which may be due to the simplicity and abundant data science packages/libraries that are present in Python. "
   ]
  },
  {
   "cell_type": "code",
   "execution_count": 28,
   "metadata": {},
   "outputs": [
    {
     "data": {
      "image/png": "[encoded data removed]",
      "text/plain": [
       "<Figure size 1000x480 with 1 Axes>"
      ]
     },
     "metadata": {},
     "output_type": "display_data"
    },
    {
     "data": {
      "text/plain": [
       "<ggplot: (8784630422279)>"
      ]
     },
     "execution_count": 28,
     "metadata": {},
     "output_type": "execute_result"
    }
   ],
   "source": [
    "p9.options.figure_size = (10, 4.8)\n",
    "plot = p9.ggplot(plot_df_prop)\n",
    "plot += p9.geom_col(position='dodge')\n",
    "plot += p9.aes(x='Skill', y = 'data science')\n",
    "plot += p9.labs(title=\"Most sought out skills for Data Science postings\",\n",
    "             x=\"Skills\",\n",
    "             y=\"Proportion\")\n",
    "plot += p9.geom_text(p9.aes(label='data science'),size=8, va='bottom', format_string='{}')\n",
    "plot"
   ]
  },
  {
   "cell_type": "markdown",
   "metadata": {},
   "source": [
    "### Data Science Intern"
   ]
  },
  {
   "cell_type": "markdown",
   "metadata": {},
   "source": [
    "Overall, Data Science intern posts follow a similar trend with Data Science posts. The slight differences in the SQL and Tableau columns may be due to larger intern/full-time distinctions in this field. "
   ]
  },
  {
   "cell_type": "code",
   "execution_count": 29,
   "metadata": {},
   "outputs": [
    {
     "data": {
      "image/png": "[encoded data removed]",
      "text/plain": [
       "<Figure size 1000x480 with 1 Axes>"
      ]
     },
     "metadata": {},
     "output_type": "display_data"
    },
    {
     "data": {
      "text/plain": [
       "<ggplot: (8784630418764)>"
      ]
     },
     "execution_count": 29,
     "metadata": {},
     "output_type": "execute_result"
    }
   ],
   "source": [
    "p9.options.figure_size = (10, 4.8)\n",
    "plot = p9.ggplot(plot_df_prop)\n",
    "plot += p9.geom_col(position='dodge')\n",
    "plot += p9.aes(x='Skill', y = 'data science intern')\n",
    "plot += p9.labs(title=\"Most sought out skills for Data Science Intern postings\",\n",
    "             x=\"Skills\",\n",
    "             y=\"Proportion\")\n",
    "plot += p9.geom_text(p9.aes(label='data science intern'),size=8, va='bottom', format_string='{}')\n",
    "plot"
   ]
  },
  {
   "cell_type": "markdown",
   "metadata": {},
   "source": [
    "### Data Analyst"
   ]
  },
  {
   "cell_type": "markdown",
   "metadata": {},
   "source": [
    "For Data Analysts' posts we can see a clear distinction in employers' sought out skills compared to Data Science and Machine Learning posts.  \n",
    "With SQL being the largest proportion followed by Tableau, we can infer that, for a Data Analyst, they rarely have to learn programming languages such as Python to do their job because they do not come across data pipeline duties or machine learning methods. \n",
    "For example, we can see that Tensorflow, an open-source software library for machine learning, is almost never asked for among job postings."
   ]
  },
  {
   "cell_type": "code",
   "execution_count": 30,
   "metadata": {},
   "outputs": [
    {
     "data": {
      "image/png": "[encoded data removed]",
      "text/plain": [
       "<Figure size 1000x480 with 1 Axes>"
      ]
     },
     "metadata": {},
     "output_type": "display_data"
    },
    {
     "data": {
      "text/plain": [
       "<ggplot: (8784631582085)>"
      ]
     },
     "execution_count": 30,
     "metadata": {},
     "output_type": "execute_result"
    }
   ],
   "source": [
    "p9.options.figure_size = (10, 4.8)\n",
    "plot = p9.ggplot(plot_df_prop)\n",
    "plot += p9.geom_col(position='dodge')\n",
    "plot += p9.aes(x='Skill', y = 'data analyst')\n",
    "plot += p9.labs(title=\"Most sought out skills for Data Analyst postings\",\n",
    "             x=\"Skills\",\n",
    "             y=\"Proportion\")\n",
    "plot += p9.geom_text(p9.aes(label='data analyst'),size=8, va='bottom', format_string='{}')\n",
    "plot"
   ]
  },
  {
   "cell_type": "markdown",
   "metadata": {},
   "source": [
    "### Data Analyst Intern"
   ]
  },
  {
   "cell_type": "markdown",
   "metadata": {},
   "source": [
    "The Data Analyst intern positions closely follow their non-intern counterpart. The use of Python has increased, possibly due to these interns filling in for smaller data-related duties, like maintaining data pipelines."
   ]
  },
  {
   "cell_type": "code",
   "execution_count": 31,
   "metadata": {},
   "outputs": [
    {
     "data": {
      "image/png": "[encoded data removed]",
      "text/plain": [
       "<Figure size 1000x480 with 1 Axes>"
      ]
     },
     "metadata": {},
     "output_type": "display_data"
    },
    {
     "data": {
      "text/plain": [
       "<ggplot: (8784632062868)>"
      ]
     },
     "execution_count": 31,
     "metadata": {},
     "output_type": "execute_result"
    }
   ],
   "source": [
    "p9.options.figure_size = (10, 4.8)\n",
    "plot = p9.ggplot(plot_df_prop)\n",
    "plot += p9.geom_col(position='dodge')\n",
    "plot += p9.aes(x='Skill', y = 'data analyst intern')\n",
    "plot += p9.labs(title=\"Most sought out skills for Data Analyst Intern postings\",\n",
    "             x=\"Skills\",\n",
    "             y=\"Proportion\")\n",
    "plot += p9.geom_text(p9.aes(label='data analyst intern'),size=8, va='bottom', format_string='{}')\n",
    "plot"
   ]
  },
  {
   "cell_type": "markdown",
   "metadata": {},
   "source": [
    "## Overall Plots"
   ]
  },
  {
   "cell_type": "markdown",
   "metadata": {},
   "source": [
    "We use the following mapping to abbreviate the long query names, to clean up the following plots.  \n",
    "`abbreviation = {'machine learning':\"ML\",'machine learning intern':\"MLi\", 'data science':\"DS\", 'data science intern':\"DSi\", 'data analyst':\"DA\", 'data analyst intern':\"DAi\"}`"
   ]
  },
  {
   "cell_type": "code",
   "execution_count": 32,
   "metadata": {},
   "outputs": [],
   "source": [
    "## Munge/Transform the data, so that each row is one observation (with 2 indep. \n",
    "## variables, and 1 dependent variable)\n",
    "plot_df_prop2 = pd.melt(plot_df_prop, id_vars=[\"Skill\"], var_name = \"Query\", value_name = \"Prop.\")\n",
    "#print(plot_df_prop2.head(3))"
   ]
  },
  {
   "cell_type": "code",
   "execution_count": 33,
   "metadata": {
    "scrolled": true
   },
   "outputs": [
    {
     "data": {
      "text/html": [
       "<div>\n",
       "<style scoped>\n",
       "    .dataframe tbody tr th:only-of-type {\n",
       "        vertical-align: middle;\n",
       "    }\n",
       "\n",
       "    .dataframe tbody tr th {\n",
       "        vertical-align: top;\n",
       "    }\n",
       "\n",
       "    .dataframe thead th {\n",
       "        text-align: right;\n",
       "    }\n",
       "</style>\n",
       "<table border=\"1\" class=\"dataframe\">\n",
       "  <thead>\n",
       "    <tr style=\"text-align: right;\">\n",
       "      <th></th>\n",
       "      <th>Skill</th>\n",
       "      <th>Query</th>\n",
       "      <th>Prop.</th>\n",
       "    </tr>\n",
       "  </thead>\n",
       "  <tbody>\n",
       "    <tr>\n",
       "      <th>0</th>\n",
       "      <td>C++</td>\n",
       "      <td>ML</td>\n",
       "      <td>0.167</td>\n",
       "    </tr>\n",
       "    <tr>\n",
       "      <th>1</th>\n",
       "      <td>Java</td>\n",
       "      <td>ML</td>\n",
       "      <td>0.315</td>\n",
       "    </tr>\n",
       "    <tr>\n",
       "      <th>2</th>\n",
       "      <td>MongoDB</td>\n",
       "      <td>ML</td>\n",
       "      <td>0.033</td>\n",
       "    </tr>\n",
       "    <tr>\n",
       "      <th>3</th>\n",
       "      <td>Power BI</td>\n",
       "      <td>ML</td>\n",
       "      <td>0.038</td>\n",
       "    </tr>\n",
       "    <tr>\n",
       "      <th>4</th>\n",
       "      <td>Python</td>\n",
       "      <td>ML</td>\n",
       "      <td>0.535</td>\n",
       "    </tr>\n",
       "  </tbody>\n",
       "</table>\n",
       "</div>"
      ],
      "text/plain": [
       "      Skill Query  Prop.\n",
       "0       C++    ML  0.167\n",
       "1      Java    ML  0.315\n",
       "2   MongoDB    ML  0.033\n",
       "3  Power BI    ML  0.038\n",
       "4    Python    ML  0.535"
      ]
     },
     "execution_count": 33,
     "metadata": {},
     "output_type": "execute_result"
    }
   ],
   "source": [
    "abbreviation = {'machine learning':\"ML\",\n",
    "                'machine learning intern':\"MLi\", \n",
    "                'data science':\"DS\", \n",
    "                'data science intern':\"DSi\", \n",
    "                'data analyst':\"DA\", \n",
    "                'data analyst intern':\"DAi\"}\n",
    "plot_df_prop2 = plot_df_prop2.replace({\"Query\": abbreviation})\n",
    "plot_df_prop2.head()"
   ]
  },
  {
   "cell_type": "markdown",
   "metadata": {},
   "source": [
    "We see that, for Machine Learning and Data Science, Python is a very important skill to have for prospective employees. \n",
    "\n",
    "Machine Learning postings have higher proportions of many programming languages such as C++, Java, and Python. \n",
    "\n",
    "On the other hand, Data Science postings primarily mention Python as the most important skill. \n",
    "\n",
    "We see that the proportions for the same programming languages are not as prominent in Data Analyst postings."
   ]
  },
  {
   "cell_type": "code",
   "execution_count": 34,
   "metadata": {},
   "outputs": [
    {
     "data": {
      "image/png": "[encoded data removed]",
      "text/plain": [
       "<Figure size 1000x800 with 1 Axes>"
      ]
     },
     "metadata": {},
     "output_type": "display_data"
    },
    {
     "data": {
      "text/plain": [
       "<ggplot: (8784632957067)>"
      ]
     },
     "execution_count": 34,
     "metadata": {},
     "output_type": "execute_result"
    }
   ],
   "source": [
    "p9.options.figure_size = (10, 8)\n",
    "plot = p9.ggplot(plot_df_prop2)\n",
    "plot += p9.geom_col(position='dodge')\n",
    "plot += p9.aes(x='Query', y = 'Prop.', fill = \"Skill\")\n",
    "plot += p9.labs(title=\"Most sought out skills by Query\",\n",
    "             x=\"Job Query\",\n",
    "             y=\"Proportion\")\n",
    "plot += p9.coord_flip()\n",
    "plot"
   ]
  },
  {
   "cell_type": "markdown",
   "metadata": {},
   "source": [
    "From this plot, we see that there is a slight, but clear, distinction between data analyst positions' skills and the skills required for other data jobs. \n",
    "\n",
    "SQL is equally important across all six queries, but Python is much less required for data analyst jobs. \n",
    "\n",
    "C++, Java, and Tensorflow are increasingly more common in data science and machine learning positions, respectively, while data analyst positions almost never ask for these skills by name."
   ]
  },
  {
   "cell_type": "code",
   "execution_count": 35,
   "metadata": {},
   "outputs": [
    {
     "data": {
      "image/png": "[encoded data removed]",
      "text/plain": [
       "<Figure size 1000x480 with 1 Axes>"
      ]
     },
     "metadata": {},
     "output_type": "display_data"
    },
    {
     "data": {
      "text/plain": [
       "<ggplot: (8784632933310)>"
      ]
     },
     "execution_count": 35,
     "metadata": {},
     "output_type": "execute_result"
    }
   ],
   "source": [
    "p9.options.figure_size = (10, 4.8)\n",
    "plot = p9.ggplot(plot_df_prop2)\n",
    "plot += p9.geom_col(position='dodge')\n",
    "plot += p9.aes(x='Skill', y = 'Prop.', fill = \"Query\")\n",
    "plot += p9.labs(title=\"Proportions of jobs that require a certain skill\",\n",
    "             x=\"Skill\",\n",
    "             y=\"Proportion\")\n",
    "plot"
   ]
  },
  {
   "cell_type": "markdown",
   "metadata": {},
   "source": [
    "# Statistical Tests: Chi-Squared"
   ]
  },
  {
   "cell_type": "markdown",
   "metadata": {},
   "source": [
    "## Perform Chi-Squared Tests For Each Skill"
   ]
  },
  {
   "cell_type": "markdown",
   "metadata": {},
   "source": [
    "\\<options for analysis...>\n",
    "<!--\n",
    "Multiple contingency tables, each having many jobs & one skill:\n",
    "- divide by the job: what % of each job requires/doesn't require this skill\n",
    "```\n",
    "| SQL | ML  | MLi | DS  | DSi | DA  | DAi |\n",
    "|-----------------------------------------|\n",
    "| Yes | .71 | .79 | .82 | ... | ... | ... |\n",
    "| No  | .29 | .21 | .18 | ... | ... | ... |\n",
    "And again for Tableau: \n",
    "| Tableau | ...\n",
    "  ...       ...\n",
    "```\n",
    "\n",
    "**or**\n",
    "\n",
    "A table of all skills AND all jobs, with each row being one skill: \n",
    "- but this won't add up to 100%, no chi-sq test?\n",
    "-->"
   ]
  },
  {
   "cell_type": "markdown",
   "metadata": {},
   "source": [
    "For each skill that we investigated, we determined whether its proportions of appearances differ among job types; i.e. whether different jobs are equally likely to ask for a specific skill. We calculated an overall proportion for each skill, to compare against. Then, we determined the residuals of each observation (proportion of occurrences per job query); we standardize, square, and take the sum of this residual to get the overall chi-square statistic. \n",
    "\n",
    "Comparing this statistic to the critical value will determine which hypothesis - $H_0$: all of the proportions are the same, or $H_a$: at least two of the proportions differ - is true. "
   ]
  },
  {
   "cell_type": "code",
   "execution_count": 36,
   "metadata": {},
   "outputs": [
    {
     "name": "stdout",
     "output_type": "stream",
     "text": [
      "C++: \n",
      "Proportions: [0.16675985462678222 0.23735955056179775 0.09362738465701528\n",
      " 0.13305613305613306 0.007404181184668989 0.030100334448160536]\n",
      "Chi-Sq. Stat: 1536.7705595941172\n",
      "\n",
      "Java: \n",
      "Proportions: [0.3154878389712049 0.27668539325842695 0.18184278176160196\n",
      " 0.17671517671517672 0.04050522648083624 0.08361204013377926]\n",
      "Chi-Sq. Stat: 2248.5405257657712\n",
      "\n",
      "MongoDB: \n",
      "Proportions: [0.03270897400055913 0.023876404494382022 0.021106751454471655\n",
      " 0.014553014553014554 0.00272212543554007 0.006688963210702341]\n",
      "Chi-Sq. Stat: 222.62802139624284\n",
      "\n",
      "Power BI: \n",
      "Proportions: [0.03774112384679899 0.0449438202247191 0.0807739142199973\n",
      " 0.062370062370062374 0.1019163763066202 0.11036789297658862]\n",
      "Chi-Sq. Stat: 257.557298943674\n",
      "\n",
      "Python: \n",
      "Proportions: [0.5346659211629857 0.6221910112359551 0.589230144770667\n",
      " 0.6153846153846154 0.15810104529616725 0.1939799331103679]\n",
      "Chi-Sq. Stat: 4112.4803747271635\n",
      "\n",
      "Qlik: \n",
      "Proportions: [0.019849035504612804 0.009831460674157303 0.03734271411175754\n",
      " 0.02079002079002079 0.02689459930313589 0.016722408026755852]\n",
      "Chi-Sq. Stat: 53.40620326808299\n",
      "\n",
      "SQL: \n",
      "Proportions: [0.3705619233994968 0.2808988764044944 0.5238803950750913\n",
      " 0.40332640332640335 0.4055966898954704 0.3612040133779264]\n",
      "Chi-Sq. Stat: 462.5162490756858\n",
      "\n",
      "Tableau: \n",
      "Proportions: [0.09239586245457088 0.06741573033707865 0.2355567582194561\n",
      " 0.15384615384615385 0.19827961672473868 0.14381270903010032]\n",
      "Chi-Sq. Stat: 623.5840005394404\n",
      "\n",
      "Tensorflow: \n",
      "Proportions: [0.09952474140341068 0.14185393258426968 0.09876877283182249\n",
      " 0.12058212058212059 0.0014155052264808363 0.0]\n",
      "Chi-Sq. Stat: 1018.6384634398717\n",
      "\n"
     ]
    }
   ],
   "source": [
    "## Loop through the dataframe, calculate chi-sq. for each row\n",
    "# https://www.thoughtco.com/critical-values-with-a-chi-square-table-3126426\n",
    "for row in df.iterrows():\n",
    "    skill = row[1][0]; print(skill+\": \", end=\"\\n\")\n",
    "    counts = row[1][1:]\n",
    "    props = np.array(counts)/np.array(totals); print(\"Proportions: \"+str(props))\n",
    "    overall = sum(counts)/float(sum(totals)); #print(overall)\n",
    "    numerator = (props - overall); #print(numerator)\n",
    "    denominator = (overall*(1-overall)/np.array(totals))**0.5; #print(denominator)\n",
    "    chisq_stat = sum((numerator/denominator)**2); print(\"Chi-Sq. Stat: \"+str(chisq_stat), end=\"\\n\\n\")\n",
    "# df for chi-sq goodness of fit = (outcomes-1) = (2-1) = 1"
   ]
  },
  {
   "cell_type": "markdown",
   "metadata": {},
   "source": [
    "Because we were unsure of the true degrees of freedom, we determined the chi-square critical value with multiple possible degrees of freedom. We also used `np.random.chisquare()` to simulate a distribution that had a perfect degree of freedom for the data, as opposed to using a chi-square table, and used `np.quantile()` to determine the critical value. \n",
    "\n",
    "*I'm not sure how exactly to apply the Chi-Squared test in this situation, but the code above shouldn't be too far off - I get the error of each cell's proportion from the expected proportion, standardize and aggregate them into the Chi^2 statistic, and compare it to the (simulated) error statistics for the specific degrees of freedom.*\n",
    "\n",
    "*For df, I've read in some sources that I should use (outcome levels - 1), but other sources seem to use (rows - 1)(columns - 1) because they're operating on contingency tables. It seems that, regardless of which chi-sq. critical value I am using, the outcome is that the proportions are statistically significant.*\n",
    "\n",
    "*I will include a PDF excerpt from the statistics textbook I am basing my test on, which performs a chi-sq. test on three proportions that do not sum to 1.*"
   ]
  },
  {
   "cell_type": "code",
   "execution_count": 37,
   "metadata": {},
   "outputs": [
    {
     "name": "stdout",
     "output_type": "stream",
     "text": [
      "3.86120037804681\n",
      "11.04960899511525\n",
      "37.817746196315184\n"
     ]
    }
   ],
   "source": [
    "# Find the chi-sq. critical value for alpha = 0.05\n",
    "r_chi=[]\n",
    "for i in range(0, 30000):\n",
    "    r_chi.append(np.random.chisquare(2-1))  # if it's outcome-1\n",
    "len(r_chi)\n",
    "print(np.quantile(r_chi, 0.95))\n",
    "\n",
    "# https://en.wikipedia.org/wiki/Chi-squared_test\n",
    "r_chi=[]\n",
    "for i in range(0, 30000):\n",
    "    r_chi.append(np.random.chisquare((2-1)*(6-1)))  # if it's (outcome-1)(predictor-1)\n",
    "len(r_chi)\n",
    "print(np.quantile(r_chi, 0.95))\n",
    "\n",
    "r_chi=[]\n",
    "for i in range(0, 30000):\n",
    "    r_chi.append(np.random.chisquare((6-1)*(len(Query_list)-1)))  # if it's (rows-1)(columns-1) for the whole thing (unlikely)\n",
    "len(r_chi)\n",
    "print(np.quantile(r_chi, 0.95))"
   ]
  },
  {
   "cell_type": "markdown",
   "metadata": {},
   "source": [
    "The chi-squared statistics obtained here are all greater than any possible critical value (due to the nature of the data, different degrees of freedom may be possible, although we cannot decide which is the correct one). **We can reject the null hypothesis $H_0$, and conclude that: for every skill investigated here, there are statistically significant differences between at least two of the proportions of job listings that mention that skill, across different job types.**"
   ]
  },
  {
   "cell_type": "markdown",
   "metadata": {},
   "source": [
    "# Conclusion"
   ]
  },
  {
   "cell_type": "markdown",
   "metadata": {},
   "source": [
    "In this project, we have confirmed that many different Big Data jobs have distinct and somewhat unique job requirements. Machine Learning jobs, and to some extent, Data Science jobs as well, have significantly more programming requirements than Data Analyst positions. Based on the visualizations we created, Data Analyst jobs have the strongest distinction between themselves and other fields, while the Machine Learning and Data Science industry seems to have some degree of overlap. Our chi-square tests also confirmed that the proportions of jobs that required any given skill were different at the significance level alpha = 0.05, and this even included skills that had the least representation, like Qlik (and Tensorflow). "
   ]
  }
 ],
 "metadata": {
  "kernelspec": {
   "display_name": "Python 3",
   "language": "python",
   "name": "python3"
  },
  "language_info": {
   "codemirror_mode": {
    "name": "ipython",
    "version": 3
   },
   "file_extension": ".py",
   "mimetype": "text/x-python",
   "name": "python",
   "nbconvert_exporter": "python",
   "pygments_lexer": "ipython3",
   "version": "3.8.5"
  }
 },
 "nbformat": 4,
 "nbformat_minor": 5
}
